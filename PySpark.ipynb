{
  "nbformat": 4,
  "nbformat_minor": 0,
  "metadata": {
    "colab": {
      "provenance": [],
      "collapsed_sections": [
        "Wxuzj_-Fr4qx",
        "312eKeP3r1Uv"
      ],
      "authorship_tag": "ABX9TyNJQYAqLVIE3rhhoGFqEgd9",
      "include_colab_link": true
    },
    "kernelspec": {
      "name": "python3",
      "display_name": "Python 3"
    },
    "language_info": {
      "name": "python"
    }
  },
  "cells": [
    {
      "cell_type": "markdown",
      "metadata": {
        "id": "view-in-github",
        "colab_type": "text"
      },
      "source": [
        "<a href=\"https://colab.research.google.com/github/adrianmarino19/pyspark/blob/master/PySpark.ipynb\" target=\"_parent\"><img src=\"https://colab.research.google.com/assets/colab-badge.svg\" alt=\"Open In Colab\"/></a>"
      ]
    },
    {
      "cell_type": "code",
      "execution_count": null,
      "metadata": {
        "id": "YcP3fSypGb3J"
      },
      "outputs": [],
      "source": [
        "from pyspark.sql import SparkSession"
      ]
    },
    {
      "cell_type": "code",
      "source": [
        "spark = SparkSession.builder.appName('practice').getOrCreate()"
      ],
      "metadata": {
        "id": "GHI57o8CJvyI"
      },
      "execution_count": null,
      "outputs": []
    },
    {
      "cell_type": "code",
      "source": [
        "# Test your setup\n",
        "\n",
        "df = spark.range(1000)\n",
        "df.count()  # Should return 1000"
      ],
      "metadata": {
        "colab": {
          "base_uri": "https://localhost:8080/"
        },
        "id": "01Bq9pPfLXu4",
        "outputId": "5a79b38f-090c-4025-a2ac-41c7351b5cae"
      },
      "execution_count": null,
      "outputs": [
        {
          "output_type": "execute_result",
          "data": {
            "text/plain": [
              "1000"
            ]
          },
          "metadata": {},
          "execution_count": 3
        }
      ]
    },
    {
      "cell_type": "code",
      "source": [
        "df = spark.read.csv('sample_data/california_housing_test.csv', header=True, inferSchema=True)"
      ],
      "metadata": {
        "id": "XDkgSiy9Wg6A"
      },
      "execution_count": null,
      "outputs": []
    },
    {
      "cell_type": "code",
      "source": [
        "df.show(50)"
      ],
      "metadata": {
        "colab": {
          "base_uri": "https://localhost:8080/"
        },
        "id": "kr5VFpJkZZNA",
        "outputId": "c1dae37a-3166-45b2-ed52-40078ea7fa0b"
      },
      "execution_count": null,
      "outputs": [
        {
          "output_type": "stream",
          "name": "stdout",
          "text": [
            "+---------+--------+------------------+-----------+--------------+----------+----------+-------------+------------------+\n",
            "|longitude|latitude|housing_median_age|total_rooms|total_bedrooms|population|households|median_income|median_house_value|\n",
            "+---------+--------+------------------+-----------+--------------+----------+----------+-------------+------------------+\n",
            "|  -122.05|   37.37|              27.0|     3885.0|         661.0|    1537.0|     606.0|       6.6085|          344700.0|\n",
            "|   -118.3|   34.26|              43.0|     1510.0|         310.0|     809.0|     277.0|        3.599|          176500.0|\n",
            "|  -117.81|   33.78|              27.0|     3589.0|         507.0|    1484.0|     495.0|       5.7934|          270500.0|\n",
            "|  -118.36|   33.82|              28.0|       67.0|          15.0|      49.0|      11.0|       6.1359|          330000.0|\n",
            "|  -119.67|   36.33|              19.0|     1241.0|         244.0|     850.0|     237.0|       2.9375|           81700.0|\n",
            "|  -119.56|   36.51|              37.0|     1018.0|         213.0|     663.0|     204.0|       1.6635|           67000.0|\n",
            "|  -121.43|   38.63|              43.0|     1009.0|         225.0|     604.0|     218.0|       1.6641|           67000.0|\n",
            "|  -120.65|   35.48|              19.0|     2310.0|         471.0|    1341.0|     441.0|        3.225|          166900.0|\n",
            "|  -122.84|    38.4|              15.0|     3080.0|         617.0|    1446.0|     599.0|       3.6696|          194400.0|\n",
            "|  -118.02|   34.08|              31.0|     2402.0|         632.0|    2830.0|     603.0|       2.3333|          164200.0|\n",
            "|  -118.24|   33.98|              45.0|      972.0|         249.0|    1288.0|     261.0|       2.2054|          125000.0|\n",
            "|  -119.12|   35.85|              37.0|      736.0|         166.0|     564.0|     138.0|       2.4167|           58300.0|\n",
            "|  -121.93|   37.25|              36.0|     1089.0|         182.0|     535.0|     170.0|         4.69|          252600.0|\n",
            "|  -117.03|   32.97|              16.0|     3936.0|         694.0|    1935.0|     659.0|       4.5625|          231200.0|\n",
            "|  -117.97|   33.73|              27.0|     2097.0|         325.0|    1217.0|     331.0|       5.7121|          222500.0|\n",
            "|  -117.99|   33.81|              42.0|      161.0|          40.0|     157.0|      50.0|          2.2|          153100.0|\n",
            "|  -120.81|   37.53|              15.0|      570.0|         123.0|     189.0|     107.0|        1.875|          181300.0|\n",
            "|   -121.2|   38.69|              26.0|     3077.0|         607.0|    1603.0|     595.0|       2.7174|          137500.0|\n",
            "|  -118.88|   34.21|              26.0|     1590.0|         196.0|     654.0|     199.0|       6.5851|          300000.0|\n",
            "|  -122.59|   38.01|              35.0|     8814.0|        1307.0|    3450.0|    1258.0|       6.1724|          414300.0|\n",
            "|  -122.15|   37.75|              40.0|     1445.0|         256.0|     849.0|     255.0|       3.8913|          126300.0|\n",
            "|  -121.37|   38.68|              36.0|     1775.0|         296.0|     937.0|     305.0|       3.1786|           83400.0|\n",
            "|  -118.16|   34.07|              47.0|     2994.0|         543.0|    1651.0|     561.0|       3.8644|          241500.0|\n",
            "|   -122.2|   37.79|              45.0|     2021.0|         528.0|    1410.0|     480.0|       2.7788|          115400.0|\n",
            "|  -117.28|   33.28|              13.0|     6131.0|        1040.0|    4049.0|     940.0|       3.8156|          150700.0|\n",
            "|  -118.03|   34.16|              36.0|     1401.0|         218.0|     667.0|     225.0|       7.1615|          484700.0|\n",
            "|  -122.42|   37.76|              52.0|     3587.0|        1030.0|    2259.0|     979.0|       2.5403|          250000.0|\n",
            "|  -118.39|   33.99|              32.0|     2612.0|         418.0|    1030.0|     402.0|        6.603|          369200.0|\n",
            "|  -118.45|   34.07|              19.0|     4845.0|        1609.0|    3751.0|    1539.0|        1.583|          350000.0|\n",
            "|  -118.48|   34.01|              30.0|     3078.0|         954.0|    1561.0|     901.0|       3.4852|          425000.0|\n",
            "|  -119.35|   36.33|              14.0|     1195.0|         220.0|     568.0|     229.0|       3.1486|          105600.0|\n",
            "|   -118.3|   33.91|              34.0|     1617.0|         493.0|    1530.0|     500.0|       2.6182|          172600.0|\n",
            "|  -121.13|   39.31|              17.0|     3442.0|         705.0|    1693.0|     619.0|       2.8102|          128900.0|\n",
            "|  -118.08|   34.55|               5.0|    16181.0|        2971.0|    8152.0|    2651.0|       4.5237|          141800.0|\n",
            "|  -118.32|   33.94|              38.0|     1067.0|         170.0|     499.0|     169.0|       4.6389|          183800.0|\n",
            "|  -118.11|    34.0|              33.0|     2886.0|         726.0|    2650.0|     728.0|        2.625|          178700.0|\n",
            "|  -122.53|   37.97|              52.0|     1560.0|         451.0|     700.0|     419.0|       2.5125|          270800.0|\n",
            "|  -118.02|   33.92|              34.0|     1478.0|         251.0|     956.0|     277.0|       5.5238|          185300.0|\n",
            "|  -118.05|   33.93|              31.0|      894.0|         203.0|     883.0|     190.0|       3.6771|          141500.0|\n",
            "|  -119.01|   34.23|              11.0|     5785.0|        1035.0|    2760.0|     985.0|        4.693|          232200.0|\n",
            "|  -119.32|    36.2|              15.0|     1562.0|         275.0|     961.0|     287.0|       3.4231|           83300.0|\n",
            "|  -116.92|   32.77|              16.0|     2770.0|         406.0|    1269.0|     429.0|       6.6783|          275000.0|\n",
            "|  -118.06|   34.15|              37.0|     1980.0|         226.0|     697.0|     226.0|      15.0001|          500001.0|\n",
            "|  -117.27|   34.09|              36.0|      848.0|         186.0|     737.0|     169.0|       0.9838|           79300.0|\n",
            "|  -118.23|   34.13|              48.0|     1308.0|         286.0|     835.0|     294.0|       4.2891|          214800.0|\n",
            "|  -117.24|   33.17|               4.0|     9998.0|        1874.0|    3925.0|    1672.0|       4.2826|          237500.0|\n",
            "|  -121.91|   37.44|              24.0|     1212.0|         251.0|     799.0|     242.0|       5.0808|          212500.0|\n",
            "|  -118.29|   33.94|              47.0|     1782.0|         338.0|    1003.0|     329.0|       2.5398|          105700.0|\n",
            "|  -121.35|    38.0|               6.0|     1649.0|         369.0|     732.0|     350.0|       3.4231|          123800.0|\n",
            "|  -117.99|   33.78|              19.0|     7399.0|        1698.0|    3554.0|    1593.0|       3.1049|          173900.0|\n",
            "+---------+--------+------------------+-----------+--------------+----------+----------+-------------+------------------+\n",
            "only showing top 50 rows\n",
            "\n"
          ]
        }
      ]
    },
    {
      "cell_type": "code",
      "source": [
        "# Display the schema and verify data types\n",
        "\n",
        "df.printSchema()\n",
        "\n",
        "# Float is double.\n",
        "# Nullable implies that column can have null values.\n",
        "\n",
        "# We can also run this df.dtypes only for the data types. Not super useful."
      ],
      "metadata": {
        "colab": {
          "base_uri": "https://localhost:8080/"
        },
        "id": "SfL_G7dpZsnm",
        "outputId": "cf2bb068-911e-41f7-f6f4-f6e84b8b6e57"
      },
      "execution_count": null,
      "outputs": [
        {
          "output_type": "stream",
          "name": "stdout",
          "text": [
            "root\n",
            " |-- longitude: double (nullable = true)\n",
            " |-- latitude: double (nullable = true)\n",
            " |-- housing_median_age: double (nullable = true)\n",
            " |-- total_rooms: double (nullable = true)\n",
            " |-- total_bedrooms: double (nullable = true)\n",
            " |-- population: double (nullable = true)\n",
            " |-- households: double (nullable = true)\n",
            " |-- median_income: double (nullable = true)\n",
            " |-- median_house_value: double (nullable = true)\n",
            "\n"
          ]
        }
      ]
    },
    {
      "cell_type": "code",
      "source": [
        "# Count total number of rows.\n",
        "\n",
        "df.count()"
      ],
      "metadata": {
        "colab": {
          "base_uri": "https://localhost:8080/"
        },
        "id": "imcSdumkaf27",
        "outputId": "0f184f6b-3b2b-4014-a0a7-fc9abeba6e14"
      },
      "execution_count": null,
      "outputs": [
        {
          "output_type": "execute_result",
          "data": {
            "text/plain": [
              "3000"
            ]
          },
          "metadata": {},
          "execution_count": 7
        }
      ]
    },
    {
      "cell_type": "code",
      "source": [
        "# Show basic statistics using describe()\n",
        "\n",
        "df.describe().show()"
      ],
      "metadata": {
        "colab": {
          "base_uri": "https://localhost:8080/"
        },
        "id": "KoEuti92bKNg",
        "outputId": "7420d7b3-5629-41d6-b620-e73f64fd25dc"
      },
      "execution_count": null,
      "outputs": [
        {
          "output_type": "stream",
          "name": "stdout",
          "text": [
            "+-------+-------------------+------------------+------------------+-----------------+------------------+------------------+------------------+------------------+------------------+\n",
            "|summary|          longitude|          latitude|housing_median_age|      total_rooms|    total_bedrooms|        population|        households|     median_income|median_house_value|\n",
            "+-------+-------------------+------------------+------------------+-----------------+------------------+------------------+------------------+------------------+------------------+\n",
            "|  count|               3000|              3000|              3000|             3000|              3000|              3000|              3000|              3000|              3000|\n",
            "|   mean|-119.58920000000029| 35.63538999999999|28.845333333333333|2599.578666666667| 529.9506666666666|1402.7986666666666|           489.912| 3.807271799999998|        205846.275|\n",
            "| stddev| 1.9949362939550166|2.1296695233438334|12.555395554955757|2155.593331625582|415.65436813632306|1030.5430124122424|365.42270980552615|1.8545117296914775|113119.68746964622|\n",
            "|    min|            -124.18|             32.56|               1.0|              6.0|               2.0|               5.0|               2.0|            0.4999|           22500.0|\n",
            "|    max|            -114.49|             41.92|              52.0|          30450.0|            5419.0|           11935.0|            4930.0|           15.0001|          500001.0|\n",
            "+-------+-------------------+------------------+------------------+-----------------+------------------+------------------+------------------+------------------+------------------+\n",
            "\n"
          ]
        }
      ]
    },
    {
      "cell_type": "code",
      "source": [
        "# Check for missing values\n",
        "\n",
        "# Unfortunately you need to import specific functions.\n",
        "\n",
        "from pyspark.sql.functions import col, when, count, isnan, isnull\n",
        "\n",
        "# it's so fucking stupid. Checking nulls values per column...\n",
        "\n",
        "df.select([\n",
        "    count(when(isnull(c) | isnan(c), c).alias(c)) for c in df.columns\n",
        "]).show()"
      ],
      "metadata": {
        "id": "z_Y_TDAtbdoa",
        "colab": {
          "base_uri": "https://localhost:8080/"
        },
        "outputId": "2f73165f-dce6-4c2b-a30a-a4a00332c74a"
      },
      "execution_count": null,
      "outputs": [
        {
          "output_type": "stream",
          "name": "stdout",
          "text": [
            "+------------------------------------------------------------------------------------------+--------------------------------------------------------------------------------------+------------------------------------------------------------------------------------------------------------------------------+--------------------------------------------------------------------------------------------------+--------------------------------------------------------------------------------------------------------------+----------------------------------------------------------------------------------------------+----------------------------------------------------------------------------------------------+----------------------------------------------------------------------------------------------------------+------------------------------------------------------------------------------------------------------------------------------+\n",
            "|count(CASE WHEN ((longitude IS NULL) OR isnan(longitude)) THEN longitude END AS longitude)|count(CASE WHEN ((latitude IS NULL) OR isnan(latitude)) THEN latitude END AS latitude)|count(CASE WHEN ((housing_median_age IS NULL) OR isnan(housing_median_age)) THEN housing_median_age END AS housing_median_age)|count(CASE WHEN ((total_rooms IS NULL) OR isnan(total_rooms)) THEN total_rooms END AS total_rooms)|count(CASE WHEN ((total_bedrooms IS NULL) OR isnan(total_bedrooms)) THEN total_bedrooms END AS total_bedrooms)|count(CASE WHEN ((population IS NULL) OR isnan(population)) THEN population END AS population)|count(CASE WHEN ((households IS NULL) OR isnan(households)) THEN households END AS households)|count(CASE WHEN ((median_income IS NULL) OR isnan(median_income)) THEN median_income END AS median_income)|count(CASE WHEN ((median_house_value IS NULL) OR isnan(median_house_value)) THEN median_house_value END AS median_house_value)|\n",
            "+------------------------------------------------------------------------------------------+--------------------------------------------------------------------------------------+------------------------------------------------------------------------------------------------------------------------------+--------------------------------------------------------------------------------------------------+--------------------------------------------------------------------------------------------------------------+----------------------------------------------------------------------------------------------+----------------------------------------------------------------------------------------------+----------------------------------------------------------------------------------------------------------+------------------------------------------------------------------------------------------------------------------------------+\n",
            "|                                                                                         0|                                                                                     0|                                                                                                                             0|                                                                                                 0|                                                                                                             0|                                                                                             0|                                                                                             0|                                                                                                         0|                                                                                                                             0|\n",
            "+------------------------------------------------------------------------------------------+--------------------------------------------------------------------------------------+------------------------------------------------------------------------------------------------------------------------------+--------------------------------------------------------------------------------------------------+--------------------------------------------------------------------------------------------------------------+----------------------------------------------------------------------------------------------+----------------------------------------------------------------------------------------------+----------------------------------------------------------------------------------------------------------+------------------------------------------------------------------------------------------------------------------------------+\n",
            "\n"
          ]
        }
      ]
    },
    {
      "cell_type": "code",
      "source": [
        "# How do you calculate the average median_income?\n",
        "\n",
        "df.agg({'median_income': 'avg'}).show()"
      ],
      "metadata": {
        "id": "ltKqWYotCVso",
        "colab": {
          "base_uri": "https://localhost:8080/"
        },
        "outputId": "cd6d350f-56f7-48f6-864c-fe082da1ba55"
      },
      "execution_count": null,
      "outputs": [
        {
          "output_type": "stream",
          "name": "stdout",
          "text": [
            "+------------------+\n",
            "|avg(median_income)|\n",
            "+------------------+\n",
            "| 3.807271799999998|\n",
            "+------------------+\n",
            "\n"
          ]
        }
      ]
    },
    {
      "cell_type": "code",
      "source": [
        "# \tHow do you get the column names?\n",
        "\n",
        "df.columns"
      ],
      "metadata": {
        "colab": {
          "base_uri": "https://localhost:8080/"
        },
        "id": "UchElPW_Ool7",
        "outputId": "71d14e16-522b-4e71-c494-9cde84ddf97d"
      },
      "execution_count": null,
      "outputs": [
        {
          "output_type": "execute_result",
          "data": {
            "text/plain": [
              "['longitude',\n",
              " 'latitude',\n",
              " 'housing_median_age',\n",
              " 'total_rooms',\n",
              " 'total_bedrooms',\n",
              " 'population',\n",
              " 'households',\n",
              " 'median_income',\n",
              " 'median_house_value']"
            ]
          },
          "metadata": {},
          "execution_count": 11
        }
      ]
    },
    {
      "cell_type": "markdown",
      "source": [
        "# Data types & nulls"
      ],
      "metadata": {
        "id": "EldEmmy-O2Hu"
      }
    },
    {
      "cell_type": "code",
      "source": [
        "# How do you check the data type of each column in the DataFrame?\n",
        "\n",
        "df.printSchema()\n",
        "df.dtypes"
      ],
      "metadata": {
        "colab": {
          "base_uri": "https://localhost:8080/"
        },
        "id": "cRSWuYDNO3zM",
        "outputId": "3cc13866-37c1-42fb-9f59-4edc0a711071"
      },
      "execution_count": null,
      "outputs": [
        {
          "output_type": "stream",
          "name": "stdout",
          "text": [
            "root\n",
            " |-- longitude: double (nullable = true)\n",
            " |-- latitude: double (nullable = true)\n",
            " |-- housing_median_age: double (nullable = true)\n",
            " |-- total_rooms: double (nullable = true)\n",
            " |-- total_bedrooms: double (nullable = true)\n",
            " |-- population: double (nullable = true)\n",
            " |-- households: double (nullable = true)\n",
            " |-- median_income: double (nullable = true)\n",
            " |-- median_house_value: double (nullable = true)\n",
            "\n"
          ]
        },
        {
          "output_type": "execute_result",
          "data": {
            "text/plain": [
              "[('longitude', 'double'),\n",
              " ('latitude', 'double'),\n",
              " ('housing_median_age', 'double'),\n",
              " ('total_rooms', 'double'),\n",
              " ('total_bedrooms', 'double'),\n",
              " ('population', 'double'),\n",
              " ('households', 'double'),\n",
              " ('median_income', 'double'),\n",
              " ('median_house_value', 'double')]"
            ]
          },
          "metadata": {},
          "execution_count": 26
        }
      ]
    },
    {
      "cell_type": "code",
      "source": [
        "# How do you check if there are any missing values in the entire DataFrame?\n",
        "\n",
        "from pyspark.sql.functions import count, when, isnan, isnull\n",
        "\n",
        "# ???\n"
      ],
      "metadata": {
        "id": "HWSrttwwO-_U"
      },
      "execution_count": null,
      "outputs": []
    },
    {
      "cell_type": "code",
      "source": [
        "# How would you count how many rows have a null value in the total_bedrooms column?\n",
        "\n",
        "df.filter(df.total_bedrooms.isNull()).count()"
      ],
      "metadata": {
        "colab": {
          "base_uri": "https://localhost:8080/"
        },
        "id": "Mk8YSpJNPN8s",
        "outputId": "7071d459-eda5-452f-db16-ab00342f5895"
      },
      "execution_count": null,
      "outputs": [
        {
          "output_type": "execute_result",
          "data": {
            "text/plain": [
              "0"
            ]
          },
          "metadata": {},
          "execution_count": 12
        }
      ]
    },
    {
      "cell_type": "markdown",
      "source": [
        "## Filter"
      ],
      "metadata": {
        "id": "C5NMwK575nsg"
      }
    },
    {
      "cell_type": "code",
      "source": [
        "# Let's train on fitler techniques.\n",
        "\n",
        "# 🔹 1. Filter rows where median_income is greater than 4\n",
        "\n",
        "df.filter('median_income > 4').show(10) # so in PySpark you can pass your condition as a string too... Kind of weird. This is given that it has an SQL engine under it.\n",
        "\n",
        "df.filter(df.median_income > 4).show(10)"
      ],
      "metadata": {
        "colab": {
          "base_uri": "https://localhost:8080/"
        },
        "id": "CXDxSudH5qVT",
        "outputId": "9fa8e865-d626-40b9-ac70-6f614d25ac4d"
      },
      "execution_count": null,
      "outputs": [
        {
          "output_type": "stream",
          "name": "stdout",
          "text": [
            "+---------+--------+------------------+-----------+--------------+----------+----------+-------------+------------------+\n",
            "|longitude|latitude|housing_median_age|total_rooms|total_bedrooms|population|households|median_income|median_house_value|\n",
            "+---------+--------+------------------+-----------+--------------+----------+----------+-------------+------------------+\n",
            "|  -122.05|   37.37|              27.0|     3885.0|         661.0|    1537.0|     606.0|       6.6085|          344700.0|\n",
            "|  -117.81|   33.78|              27.0|     3589.0|         507.0|    1484.0|     495.0|       5.7934|          270500.0|\n",
            "|  -118.36|   33.82|              28.0|       67.0|          15.0|      49.0|      11.0|       6.1359|          330000.0|\n",
            "|  -121.93|   37.25|              36.0|     1089.0|         182.0|     535.0|     170.0|         4.69|          252600.0|\n",
            "|  -117.03|   32.97|              16.0|     3936.0|         694.0|    1935.0|     659.0|       4.5625|          231200.0|\n",
            "|  -117.97|   33.73|              27.0|     2097.0|         325.0|    1217.0|     331.0|       5.7121|          222500.0|\n",
            "|  -118.88|   34.21|              26.0|     1590.0|         196.0|     654.0|     199.0|       6.5851|          300000.0|\n",
            "|  -122.59|   38.01|              35.0|     8814.0|        1307.0|    3450.0|    1258.0|       6.1724|          414300.0|\n",
            "|  -118.03|   34.16|              36.0|     1401.0|         218.0|     667.0|     225.0|       7.1615|          484700.0|\n",
            "|  -118.39|   33.99|              32.0|     2612.0|         418.0|    1030.0|     402.0|        6.603|          369200.0|\n",
            "+---------+--------+------------------+-----------+--------------+----------+----------+-------------+------------------+\n",
            "only showing top 10 rows\n",
            "\n",
            "+---------+--------+------------------+-----------+--------------+----------+----------+-------------+------------------+\n",
            "|longitude|latitude|housing_median_age|total_rooms|total_bedrooms|population|households|median_income|median_house_value|\n",
            "+---------+--------+------------------+-----------+--------------+----------+----------+-------------+------------------+\n",
            "|  -122.05|   37.37|              27.0|     3885.0|         661.0|    1537.0|     606.0|       6.6085|          344700.0|\n",
            "|  -117.81|   33.78|              27.0|     3589.0|         507.0|    1484.0|     495.0|       5.7934|          270500.0|\n",
            "|  -118.36|   33.82|              28.0|       67.0|          15.0|      49.0|      11.0|       6.1359|          330000.0|\n",
            "|  -121.93|   37.25|              36.0|     1089.0|         182.0|     535.0|     170.0|         4.69|          252600.0|\n",
            "|  -117.03|   32.97|              16.0|     3936.0|         694.0|    1935.0|     659.0|       4.5625|          231200.0|\n",
            "|  -117.97|   33.73|              27.0|     2097.0|         325.0|    1217.0|     331.0|       5.7121|          222500.0|\n",
            "|  -118.88|   34.21|              26.0|     1590.0|         196.0|     654.0|     199.0|       6.5851|          300000.0|\n",
            "|  -122.59|   38.01|              35.0|     8814.0|        1307.0|    3450.0|    1258.0|       6.1724|          414300.0|\n",
            "|  -118.03|   34.16|              36.0|     1401.0|         218.0|     667.0|     225.0|       7.1615|          484700.0|\n",
            "|  -118.39|   33.99|              32.0|     2612.0|         418.0|    1030.0|     402.0|        6.603|          369200.0|\n",
            "+---------+--------+------------------+-----------+--------------+----------+----------+-------------+------------------+\n",
            "only showing top 10 rows\n",
            "\n"
          ]
        }
      ]
    },
    {
      "cell_type": "code",
      "source": [
        "# 🔹 2. Filter rows where housing_median_age is exactly 52\n",
        "\n",
        "\n",
        "df.filter(df.housing_median_age == 52).show(5)\n",
        "\n",
        "print(f'{df.filter(df.housing_median_age == 52).count()} total rows.')"
      ],
      "metadata": {
        "colab": {
          "base_uri": "https://localhost:8080/"
        },
        "id": "lYlFSOsP5xGG",
        "outputId": "765af460-7bd5-4f24-c0ad-603a3049065a"
      },
      "execution_count": null,
      "outputs": [
        {
          "output_type": "stream",
          "name": "stdout",
          "text": [
            "+---------+--------+------------------+-----------+--------------+----------+----------+-------------+------------------+\n",
            "|longitude|latitude|housing_median_age|total_rooms|total_bedrooms|population|households|median_income|median_house_value|\n",
            "+---------+--------+------------------+-----------+--------------+----------+----------+-------------+------------------+\n",
            "|  -122.42|   37.76|              52.0|     3587.0|        1030.0|    2259.0|     979.0|       2.5403|          250000.0|\n",
            "|  -122.53|   37.97|              52.0|     1560.0|         451.0|     700.0|     419.0|       2.5125|          270800.0|\n",
            "|  -121.92|   37.33|              52.0|     2125.0|         382.0|     930.0|     387.0|       5.2831|          299500.0|\n",
            "|   -118.2|   33.77|              52.0|     1375.0|         457.0|    1089.0|     317.0|       2.2344|          200000.0|\n",
            "|  -122.43|   37.74|              52.0|     1514.0|         314.0|     724.0|     301.0|       5.3292|          300900.0|\n",
            "+---------+--------+------------------+-----------+--------------+----------+----------+-------------+------------------+\n",
            "only showing top 5 rows\n",
            "\n",
            "173 total rows.\n"
          ]
        }
      ]
    },
    {
      "cell_type": "code",
      "source": [
        "# 🔹 3. Filter rows where median_house_value is less than 100000\n",
        "\n",
        "df.filter(df.median_house_value < 10000000).show(10)\n",
        "print(f'{df.filter(df.median_house_value < 1000000).count()} total rows.')"
      ],
      "metadata": {
        "colab": {
          "base_uri": "https://localhost:8080/"
        },
        "id": "5bj8Aswz67tc",
        "outputId": "8bec9183-7cca-4edf-95cd-96284b7ec1c8"
      },
      "execution_count": null,
      "outputs": [
        {
          "output_type": "stream",
          "name": "stdout",
          "text": [
            "+---------+--------+------------------+-----------+--------------+----------+----------+-------------+------------------+\n",
            "|longitude|latitude|housing_median_age|total_rooms|total_bedrooms|population|households|median_income|median_house_value|\n",
            "+---------+--------+------------------+-----------+--------------+----------+----------+-------------+------------------+\n",
            "|  -122.05|   37.37|              27.0|     3885.0|         661.0|    1537.0|     606.0|       6.6085|          344700.0|\n",
            "|   -118.3|   34.26|              43.0|     1510.0|         310.0|     809.0|     277.0|        3.599|          176500.0|\n",
            "|  -117.81|   33.78|              27.0|     3589.0|         507.0|    1484.0|     495.0|       5.7934|          270500.0|\n",
            "|  -118.36|   33.82|              28.0|       67.0|          15.0|      49.0|      11.0|       6.1359|          330000.0|\n",
            "|  -119.67|   36.33|              19.0|     1241.0|         244.0|     850.0|     237.0|       2.9375|           81700.0|\n",
            "|  -119.56|   36.51|              37.0|     1018.0|         213.0|     663.0|     204.0|       1.6635|           67000.0|\n",
            "|  -121.43|   38.63|              43.0|     1009.0|         225.0|     604.0|     218.0|       1.6641|           67000.0|\n",
            "|  -120.65|   35.48|              19.0|     2310.0|         471.0|    1341.0|     441.0|        3.225|          166900.0|\n",
            "|  -122.84|    38.4|              15.0|     3080.0|         617.0|    1446.0|     599.0|       3.6696|          194400.0|\n",
            "|  -118.02|   34.08|              31.0|     2402.0|         632.0|    2830.0|     603.0|       2.3333|          164200.0|\n",
            "+---------+--------+------------------+-----------+--------------+----------+----------+-------------+------------------+\n",
            "only showing top 10 rows\n",
            "\n",
            "3000 total rows.\n"
          ]
        }
      ]
    },
    {
      "cell_type": "code",
      "source": [
        "# 🔹 4. Filter rows where population is over 1000 and median_income is under 2\n",
        "\n",
        "df.filter((df.population > 1000) & (df.median_income < 2)).show(5)"
      ],
      "metadata": {
        "colab": {
          "base_uri": "https://localhost:8080/"
        },
        "id": "dl0JcsnM7bTe",
        "outputId": "f773313a-3f95-4e59-ad7a-111dfd017fdd"
      },
      "execution_count": null,
      "outputs": [
        {
          "output_type": "stream",
          "name": "stdout",
          "text": [
            "+---------+--------+------------------+-----------+--------------+----------+----------+-------------+------------------+\n",
            "|longitude|latitude|housing_median_age|total_rooms|total_bedrooms|population|households|median_income|median_house_value|\n",
            "+---------+--------+------------------+-----------+--------------+----------+----------+-------------+------------------+\n",
            "|  -118.45|   34.07|              19.0|     4845.0|        1609.0|    3751.0|    1539.0|        1.583|          350000.0|\n",
            "|   -118.2|   34.04|              44.0|     1582.0|         544.0|    1998.0|     515.0|       1.6888|          125000.0|\n",
            "|  -118.28|   34.05|              44.0|      968.0|         384.0|    1805.0|     375.0|       1.4801|          212500.0|\n",
            "|   -118.3|   34.02|              49.0|     2120.0|         483.0|    1522.0|     416.0|         1.85|          116800.0|\n",
            "|  -118.26|   33.99|              36.0|     2016.0|         505.0|    1807.0|     464.0|       1.6901|          103500.0|\n",
            "+---------+--------+------------------+-----------+--------------+----------+----------+-------------+------------------+\n",
            "only showing top 5 rows\n",
            "\n"
          ]
        }
      ]
    },
    {
      "cell_type": "code",
      "source": [
        "# 🔹 5. Filter rows where total_rooms is null\n",
        "\n",
        "df.filter(df.total_rooms.isNull()).count()"
      ],
      "metadata": {
        "colab": {
          "base_uri": "https://localhost:8080/"
        },
        "id": "HqF4e5tk7o57",
        "outputId": "e8a918b0-0fa8-4720-cdf9-54d83c1accfa"
      },
      "execution_count": null,
      "outputs": [
        {
          "output_type": "execute_result",
          "data": {
            "text/plain": [
              "0"
            ]
          },
          "metadata": {},
          "execution_count": 37
        }
      ]
    },
    {
      "cell_type": "code",
      "source": [
        "df.filter((df.latitude == 33) | (df.latitude == 34)).show()\n",
        "\n",
        "f'{df.filter((df.latitude == 33) | (df.latitude == 34)).count()} rows my friends!'"
      ],
      "metadata": {
        "colab": {
          "base_uri": "https://localhost:8080/",
          "height": 486
        },
        "id": "lKC8JWz48GYZ",
        "outputId": "7dc6e3eb-1614-4dff-cd6b-8c24f86bc592"
      },
      "execution_count": null,
      "outputs": [
        {
          "output_type": "stream",
          "name": "stdout",
          "text": [
            "+---------+--------+------------------+-----------+--------------+----------+----------+-------------+------------------+\n",
            "|longitude|latitude|housing_median_age|total_rooms|total_bedrooms|population|households|median_income|median_house_value|\n",
            "+---------+--------+------------------+-----------+--------------+----------+----------+-------------+------------------+\n",
            "|  -118.11|    34.0|              33.0|     2886.0|         726.0|    2650.0|     728.0|        2.625|          178700.0|\n",
            "|  -118.41|    34.0|              35.0|     1062.0|         305.0|    1026.0|     307.0|       2.7153|          265500.0|\n",
            "|  -118.41|    34.0|              38.0|      324.0|          70.0|     268.0|      73.0|         2.55|          271400.0|\n",
            "|  -118.28|    34.0|              42.0|      855.0|         284.0|     890.0|     247.0|       1.2778|          112500.0|\n",
            "|  -118.08|    34.0|              32.0|     1165.0|         358.0|     997.0|     361.0|       0.9817|          166300.0|\n",
            "|   -118.4|    34.0|              10.0|     1526.0|         339.0|     705.0|     268.0|       5.8083|          321800.0|\n",
            "|  -118.35|    34.0|              40.0|     2894.0|         395.0|    1063.0|     409.0|        6.939|          372000.0|\n",
            "|  -118.45|    34.0|              46.0|     1777.0|         362.0|     896.0|     334.0|         4.45|          348300.0|\n",
            "|  -118.42|    34.0|              33.0|     1139.0|         299.0|     734.0|     257.0|       3.2708|          325000.0|\n",
            "|  -118.27|    34.0|              43.0|     1638.0|         434.0|    1213.0|     390.0|       1.3403|          110800.0|\n",
            "|  -118.24|    34.0|              23.0|      588.0|         157.0|     716.0|     173.0|       1.2056|           87500.0|\n",
            "|  -118.29|    34.0|               6.0|     1487.0|         468.0|    1509.0|     403.0|       1.4639|          112500.0|\n",
            "|  -118.47|    34.0|              41.0|     2331.0|         636.0|    1839.0|     537.0|        2.288|          263500.0|\n",
            "|  -118.25|    34.0|              36.0|     1033.0|         267.0|    1112.0|     229.0|       1.7237|          105800.0|\n",
            "|  -117.68|    34.0|               5.0|     3761.0|         580.0|    2335.0|     648.0|       5.7338|          225400.0|\n",
            "|  -117.88|    34.0|              32.0|      265.0|          51.0|     170.0|      50.0|       3.9375|          187500.0|\n",
            "|  -118.33|    34.0|              52.0|     1114.0|         169.0|     486.0|     176.0|       4.2917|          247600.0|\n",
            "|  -118.29|    34.0|              41.0|     1807.0|         493.0|    1731.0|     471.0|       1.2347|          111700.0|\n",
            "|  -118.35|    34.0|              28.0|     3085.0|         621.0|    1162.0|     558.0|         3.25|          301000.0|\n",
            "|  -117.03|    33.0|               6.0|     6139.0|         793.0|    2693.0|     770.0|       7.7569|          387400.0|\n",
            "+---------+--------+------------------+-----------+--------------+----------+----------+-------------+------------------+\n",
            "only showing top 20 rows\n",
            "\n"
          ]
        },
        {
          "output_type": "execute_result",
          "data": {
            "text/plain": [
              "'24 rows my friends!'"
            ],
            "application/vnd.google.colaboratory.intrinsic+json": {
              "type": "string"
            }
          },
          "metadata": {},
          "execution_count": 42
        }
      ]
    },
    {
      "cell_type": "code",
      "source": [
        "#🔹 9. Filter rows where total_bedrooms is greater than total_rooms (just for fun)\n",
        "\n",
        "f'{df.filter(df.total_bedrooms > df.total_rooms).count()} obvioooo'"
      ],
      "metadata": {
        "colab": {
          "base_uri": "https://localhost:8080/",
          "height": 35
        },
        "id": "iweTxjst8TMw",
        "outputId": "b50d6a11-4ab0-4bbf-b691-070f7df8abf2"
      },
      "execution_count": null,
      "outputs": [
        {
          "output_type": "execute_result",
          "data": {
            "text/plain": [
              "'0 obvioooo'"
            ],
            "application/vnd.google.colaboratory.intrinsic+json": {
              "type": "string"
            }
          },
          "metadata": {},
          "execution_count": 47
        }
      ]
    },
    {
      "cell_type": "markdown",
      "source": [
        "# Basic Descriptive Statistics"
      ],
      "metadata": {
        "id": "F-ss7rVJ-BbE"
      }
    },
    {
      "cell_type": "markdown",
      "source": [
        "## Select"
      ],
      "metadata": {
        "id": "Wxuzj_-Fr4qx"
      }
    },
    {
      "cell_type": "code",
      "source": [
        "## Select\n",
        "\n",
        "df.select(df.longitude, df.latitude).show(10)"
      ],
      "metadata": {
        "colab": {
          "base_uri": "https://localhost:8080/"
        },
        "id": "IoufHfDq-DT5",
        "outputId": "2da765d7-a56f-4c56-b126-ad5e3a230cbc"
      },
      "execution_count": null,
      "outputs": [
        {
          "output_type": "stream",
          "name": "stdout",
          "text": [
            "+---------+--------+\n",
            "|longitude|latitude|\n",
            "+---------+--------+\n",
            "|  -122.05|   37.37|\n",
            "|   -118.3|   34.26|\n",
            "|  -117.81|   33.78|\n",
            "|  -118.36|   33.82|\n",
            "|  -119.67|   36.33|\n",
            "|  -119.56|   36.51|\n",
            "|  -121.43|   38.63|\n",
            "|  -120.65|   35.48|\n",
            "|  -122.84|    38.4|\n",
            "|  -118.02|   34.08|\n",
            "+---------+--------+\n",
            "only showing top 10 rows\n",
            "\n"
          ]
        }
      ]
    },
    {
      "cell_type": "code",
      "source": [
        "df.select(df.median_income.alias('income')).show()"
      ],
      "metadata": {
        "colab": {
          "base_uri": "https://localhost:8080/"
        },
        "id": "XMPh8LARAY98",
        "outputId": "ce06182e-0198-490c-a9d5-b31c7d805ac1"
      },
      "execution_count": null,
      "outputs": [
        {
          "output_type": "stream",
          "name": "stdout",
          "text": [
            "+------+\n",
            "|income|\n",
            "+------+\n",
            "|6.6085|\n",
            "| 3.599|\n",
            "|5.7934|\n",
            "|6.1359|\n",
            "|2.9375|\n",
            "|1.6635|\n",
            "|1.6641|\n",
            "| 3.225|\n",
            "|3.6696|\n",
            "|2.3333|\n",
            "|2.2054|\n",
            "|2.4167|\n",
            "|  4.69|\n",
            "|4.5625|\n",
            "|5.7121|\n",
            "|   2.2|\n",
            "| 1.875|\n",
            "|2.7174|\n",
            "|6.5851|\n",
            "|6.1724|\n",
            "+------+\n",
            "only showing top 20 rows\n",
            "\n"
          ]
        }
      ]
    },
    {
      "cell_type": "code",
      "source": [
        "df.select((df.median_house_value/1000).alias('house_value_in_thousands')).show()"
      ],
      "metadata": {
        "colab": {
          "base_uri": "https://localhost:8080/"
        },
        "id": "aIvSNvXPAibS",
        "outputId": "a3f2adec-5c26-4536-b08e-8a7db3004b56"
      },
      "execution_count": null,
      "outputs": [
        {
          "output_type": "stream",
          "name": "stdout",
          "text": [
            "+------------------------+\n",
            "|house_value_in_thousands|\n",
            "+------------------------+\n",
            "|                   344.7|\n",
            "|                   176.5|\n",
            "|                   270.5|\n",
            "|                   330.0|\n",
            "|                    81.7|\n",
            "|                    67.0|\n",
            "|                    67.0|\n",
            "|                   166.9|\n",
            "|                   194.4|\n",
            "|                   164.2|\n",
            "|                   125.0|\n",
            "|                    58.3|\n",
            "|                   252.6|\n",
            "|                   231.2|\n",
            "|                   222.5|\n",
            "|                   153.1|\n",
            "|                   181.3|\n",
            "|                   137.5|\n",
            "|                   300.0|\n",
            "|                   414.3|\n",
            "+------------------------+\n",
            "only showing top 20 rows\n",
            "\n"
          ]
        }
      ]
    },
    {
      "cell_type": "code",
      "source": [
        "from pyspark.sql.functions import round\n",
        "\n",
        "df.select((round(df.total_rooms/df.households,1)).alias('rooms_per_household'), (round(df.total_bedrooms/df.total_rooms, 1)).alias('bedrooms_per_room')).show()"
      ],
      "metadata": {
        "colab": {
          "base_uri": "https://localhost:8080/"
        },
        "id": "uSmM7QivAtYt",
        "outputId": "1c4c426c-019f-4368-f173-f7c092fcb16e"
      },
      "execution_count": null,
      "outputs": [
        {
          "output_type": "stream",
          "name": "stdout",
          "text": [
            "+-------------------+-----------------+\n",
            "|rooms_per_household|bedrooms_per_room|\n",
            "+-------------------+-----------------+\n",
            "|                6.4|              0.2|\n",
            "|                5.5|              0.2|\n",
            "|                7.3|              0.1|\n",
            "|                6.1|              0.2|\n",
            "|                5.2|              0.2|\n",
            "|                5.0|              0.2|\n",
            "|                4.6|              0.2|\n",
            "|                5.2|              0.2|\n",
            "|                5.1|              0.2|\n",
            "|                4.0|              0.3|\n",
            "|                3.7|              0.3|\n",
            "|                5.3|              0.2|\n",
            "|                6.4|              0.2|\n",
            "|                6.0|              0.2|\n",
            "|                6.3|              0.2|\n",
            "|                3.2|              0.2|\n",
            "|                5.3|              0.2|\n",
            "|                5.2|              0.2|\n",
            "|                8.0|              0.1|\n",
            "|                7.0|              0.1|\n",
            "+-------------------+-----------------+\n",
            "only showing top 20 rows\n",
            "\n"
          ]
        }
      ]
    },
    {
      "cell_type": "markdown",
      "source": [],
      "metadata": {
        "id": "3QdN3gaXBm9n"
      }
    },
    {
      "cell_type": "code",
      "source": [
        "df.select((df.population/100).alias('popu with 2 zeros less')).show()"
      ],
      "metadata": {
        "colab": {
          "base_uri": "https://localhost:8080/"
        },
        "id": "zuWfi6byA3A0",
        "outputId": "30f6f2b5-c791-4fcd-f9fe-79ed601f2365"
      },
      "execution_count": null,
      "outputs": [
        {
          "output_type": "stream",
          "name": "stdout",
          "text": [
            "+----------------------+\n",
            "|popu with 2 zeros less|\n",
            "+----------------------+\n",
            "|                 15.37|\n",
            "|                  8.09|\n",
            "|                 14.84|\n",
            "|                  0.49|\n",
            "|                   8.5|\n",
            "|                  6.63|\n",
            "|                  6.04|\n",
            "|                 13.41|\n",
            "|                 14.46|\n",
            "|                  28.3|\n",
            "|                 12.88|\n",
            "|                  5.64|\n",
            "|                  5.35|\n",
            "|                 19.35|\n",
            "|                 12.17|\n",
            "|                  1.57|\n",
            "|                  1.89|\n",
            "|                 16.03|\n",
            "|                  6.54|\n",
            "|                  34.5|\n",
            "+----------------------+\n",
            "only showing top 20 rows\n",
            "\n"
          ]
        }
      ]
    },
    {
      "cell_type": "code",
      "source": [
        "from pyspark.sql.functions import avg,max\n",
        "\n",
        "df.select(avg(df.median_income), max(df.median_house_value)).show()"
      ],
      "metadata": {
        "colab": {
          "base_uri": "https://localhost:8080/"
        },
        "id": "1VgpeNuwBdKG",
        "outputId": "a669197e-6f5b-4974-9411-b3b8f75fe289"
      },
      "execution_count": null,
      "outputs": [
        {
          "output_type": "stream",
          "name": "stdout",
          "text": [
            "+------------------+-----------------------+\n",
            "|avg(median_income)|max(median_house_value)|\n",
            "+------------------+-----------------------+\n",
            "| 3.807271799999998|               500001.0|\n",
            "+------------------+-----------------------+\n",
            "\n"
          ]
        }
      ]
    },
    {
      "cell_type": "code",
      "source": [
        "df.filter(df.median_income > 5).select(df.median_income, df.population).show()"
      ],
      "metadata": {
        "colab": {
          "base_uri": "https://localhost:8080/"
        },
        "id": "KxP9J2ctCI9B",
        "outputId": "9ec5c7ff-7969-4f99-fab9-3be8545440b4"
      },
      "execution_count": null,
      "outputs": [
        {
          "output_type": "stream",
          "name": "stdout",
          "text": [
            "+-------------+----------+\n",
            "|median_income|population|\n",
            "+-------------+----------+\n",
            "|       6.6085|    1537.0|\n",
            "|       5.7934|    1484.0|\n",
            "|       6.1359|      49.0|\n",
            "|       5.7121|    1217.0|\n",
            "|       6.5851|     654.0|\n",
            "|       6.1724|    3450.0|\n",
            "|       7.1615|     667.0|\n",
            "|        6.603|    1030.0|\n",
            "|       5.5238|     956.0|\n",
            "|       6.6783|    1269.0|\n",
            "|      15.0001|     697.0|\n",
            "|       5.0808|     799.0|\n",
            "|       5.6385|    1825.0|\n",
            "|       5.8221|     445.0|\n",
            "|        5.898|    1055.0|\n",
            "|       6.1273|    1204.0|\n",
            "|       6.1561|     728.0|\n",
            "|       5.2831|     930.0|\n",
            "|       6.8075|    2703.0|\n",
            "|        7.494|    2468.0|\n",
            "+-------------+----------+\n",
            "only showing top 20 rows\n",
            "\n"
          ]
        }
      ]
    },
    {
      "cell_type": "code",
      "source": [
        "df.select((df.median_house_value / df.population).alias('value_per_person')).show()"
      ],
      "metadata": {
        "colab": {
          "base_uri": "https://localhost:8080/"
        },
        "id": "3MqUjKWtCsae",
        "outputId": "135d74c6-4e6a-422c-938c-10e7a0a55638"
      },
      "execution_count": null,
      "outputs": [
        {
          "output_type": "stream",
          "name": "stdout",
          "text": [
            "+------------------+\n",
            "|  value_per_person|\n",
            "+------------------+\n",
            "|224.26805465191933|\n",
            "| 218.1705809641533|\n",
            "|  182.277628032345|\n",
            "| 6734.693877551021|\n",
            "| 96.11764705882354|\n",
            "|101.05580693815988|\n",
            "| 110.9271523178808|\n",
            "|124.45935868754661|\n",
            "|134.43983402489627|\n",
            "| 58.02120141342756|\n",
            "| 97.04968944099379|\n",
            "|103.36879432624113|\n",
            "|472.14953271028037|\n",
            "|119.48320413436693|\n",
            "| 182.8266228430567|\n",
            "| 975.1592356687898|\n",
            "| 959.2592592592592|\n",
            "| 85.77666874610107|\n",
            "| 458.7155963302752|\n",
            "|120.08695652173913|\n",
            "+------------------+\n",
            "only showing top 20 rows\n",
            "\n"
          ]
        }
      ]
    },
    {
      "cell_type": "markdown",
      "source": [
        "## col() and loops"
      ],
      "metadata": {
        "id": "312eKeP3r1Uv"
      }
    },
    {
      "cell_type": "code",
      "source": [
        "from pyspark.sql.functions import col\n",
        "\n",
        "# for c in df.columns: --> SAME AS\n",
        "#   print(df[c])\n",
        "\n",
        "for c in df.columns:\n",
        "  print(col(c)) # Same exact thing.\n"
      ],
      "metadata": {
        "colab": {
          "base_uri": "https://localhost:8080/"
        },
        "id": "rlNWh4pJsNcm",
        "outputId": "ffe5ec97-b4dc-483f-a053-e9427e71a877"
      },
      "execution_count": 79,
      "outputs": [
        {
          "output_type": "stream",
          "name": "stdout",
          "text": [
            "Column<'longitude'>\n",
            "Column<'latitude'>\n",
            "Column<'housing_median_age'>\n",
            "Column<'total_rooms'>\n",
            "Column<'total_bedrooms'>\n",
            "Column<'population'>\n",
            "Column<'households'>\n",
            "Column<'median_income'>\n",
            "Column<'median_house_value'>\n"
          ]
        }
      ]
    },
    {
      "cell_type": "code",
      "source": [
        "for c in df.columns:\n",
        "  print(c)"
      ],
      "metadata": {
        "colab": {
          "base_uri": "https://localhost:8080/"
        },
        "id": "hCtDf5EGs3iD",
        "outputId": "dbb9b6b3-cef7-4bdb-f8db-0c58945a479a"
      },
      "execution_count": 71,
      "outputs": [
        {
          "output_type": "stream",
          "name": "stdout",
          "text": [
            "longitude\n",
            "latitude\n",
            "housing_median_age\n",
            "total_rooms\n",
            "total_bedrooms\n",
            "population\n",
            "households\n",
            "median_income\n",
            "median_house_value\n"
          ]
        }
      ]
    },
    {
      "cell_type": "code",
      "source": [
        "# first columns using loop\n",
        "\n",
        "df.select([df[c] for c in df.columns[:3]]).show(5)"
      ],
      "metadata": {
        "colab": {
          "base_uri": "https://localhost:8080/"
        },
        "id": "d-eSUmf9tPmp",
        "outputId": "c2548e3d-d72d-4848-e03d-597f0043a48f"
      },
      "execution_count": 87,
      "outputs": [
        {
          "output_type": "stream",
          "name": "stdout",
          "text": [
            "+---------+--------+------------------+\n",
            "|longitude|latitude|housing_median_age|\n",
            "+---------+--------+------------------+\n",
            "|  -122.05|   37.37|              27.0|\n",
            "|   -118.3|   34.26|              43.0|\n",
            "|  -117.81|   33.78|              27.0|\n",
            "|  -118.36|   33.82|              28.0|\n",
            "|  -119.67|   36.33|              19.0|\n",
            "+---------+--------+------------------+\n",
            "only showing top 5 rows\n",
            "\n"
          ]
        }
      ]
    },
    {
      "cell_type": "code",
      "source": [
        "from pyspark.sql.functions import upper\n",
        "\n",
        "df.select([col(c).alias(c.upper()) for c in df.columns]).show()"
      ],
      "metadata": {
        "colab": {
          "base_uri": "https://localhost:8080/"
        },
        "id": "omnlwYVUw2uZ",
        "outputId": "aaba0b0a-a632-44fb-eb7f-bc762b2c576d"
      },
      "execution_count": 92,
      "outputs": [
        {
          "output_type": "stream",
          "name": "stdout",
          "text": [
            "+---------+--------+------------------+-----------+--------------+----------+----------+-------------+------------------+\n",
            "|LONGITUDE|LATITUDE|HOUSING_MEDIAN_AGE|TOTAL_ROOMS|TOTAL_BEDROOMS|POPULATION|HOUSEHOLDS|MEDIAN_INCOME|MEDIAN_HOUSE_VALUE|\n",
            "+---------+--------+------------------+-----------+--------------+----------+----------+-------------+------------------+\n",
            "|  -122.05|   37.37|              27.0|     3885.0|         661.0|    1537.0|     606.0|       6.6085|          344700.0|\n",
            "|   -118.3|   34.26|              43.0|     1510.0|         310.0|     809.0|     277.0|        3.599|          176500.0|\n",
            "|  -117.81|   33.78|              27.0|     3589.0|         507.0|    1484.0|     495.0|       5.7934|          270500.0|\n",
            "|  -118.36|   33.82|              28.0|       67.0|          15.0|      49.0|      11.0|       6.1359|          330000.0|\n",
            "|  -119.67|   36.33|              19.0|     1241.0|         244.0|     850.0|     237.0|       2.9375|           81700.0|\n",
            "|  -119.56|   36.51|              37.0|     1018.0|         213.0|     663.0|     204.0|       1.6635|           67000.0|\n",
            "|  -121.43|   38.63|              43.0|     1009.0|         225.0|     604.0|     218.0|       1.6641|           67000.0|\n",
            "|  -120.65|   35.48|              19.0|     2310.0|         471.0|    1341.0|     441.0|        3.225|          166900.0|\n",
            "|  -122.84|    38.4|              15.0|     3080.0|         617.0|    1446.0|     599.0|       3.6696|          194400.0|\n",
            "|  -118.02|   34.08|              31.0|     2402.0|         632.0|    2830.0|     603.0|       2.3333|          164200.0|\n",
            "|  -118.24|   33.98|              45.0|      972.0|         249.0|    1288.0|     261.0|       2.2054|          125000.0|\n",
            "|  -119.12|   35.85|              37.0|      736.0|         166.0|     564.0|     138.0|       2.4167|           58300.0|\n",
            "|  -121.93|   37.25|              36.0|     1089.0|         182.0|     535.0|     170.0|         4.69|          252600.0|\n",
            "|  -117.03|   32.97|              16.0|     3936.0|         694.0|    1935.0|     659.0|       4.5625|          231200.0|\n",
            "|  -117.97|   33.73|              27.0|     2097.0|         325.0|    1217.0|     331.0|       5.7121|          222500.0|\n",
            "|  -117.99|   33.81|              42.0|      161.0|          40.0|     157.0|      50.0|          2.2|          153100.0|\n",
            "|  -120.81|   37.53|              15.0|      570.0|         123.0|     189.0|     107.0|        1.875|          181300.0|\n",
            "|   -121.2|   38.69|              26.0|     3077.0|         607.0|    1603.0|     595.0|       2.7174|          137500.0|\n",
            "|  -118.88|   34.21|              26.0|     1590.0|         196.0|     654.0|     199.0|       6.5851|          300000.0|\n",
            "|  -122.59|   38.01|              35.0|     8814.0|        1307.0|    3450.0|    1258.0|       6.1724|          414300.0|\n",
            "+---------+--------+------------------+-----------+--------------+----------+----------+-------------+------------------+\n",
            "only showing top 20 rows\n",
            "\n"
          ]
        }
      ]
    },
    {
      "cell_type": "code",
      "source": [
        "df.select([\n",
        "    df[c] if c == 'longitude' | c == 'latitude' else avg(df[c]) for c in df.columns\n",
        "])"
      ],
      "metadata": {
        "colab": {
          "base_uri": "https://localhost:8080/",
          "height": 0
        },
        "id": "FQDMipawyPk9",
        "outputId": "f36fe207-0584-4ee9-8d59-5934955ff378"
      },
      "execution_count": 96,
      "outputs": [
        {
          "output_type": "error",
          "ename": "TypeError",
          "evalue": "unsupported operand type(s) for |: 'str' and 'str'",
          "traceback": [
            "\u001b[0;31m---------------------------------------------------------------------------\u001b[0m",
            "\u001b[0;31mTypeError\u001b[0m                                 Traceback (most recent call last)",
            "\u001b[0;32m/tmp/ipython-input-118236686.py\u001b[0m in \u001b[0;36m<cell line: 0>\u001b[0;34m()\u001b[0m\n\u001b[0;32m----> 1\u001b[0;31m df.select([\n\u001b[0m\u001b[1;32m      2\u001b[0m     \u001b[0mdf\u001b[0m\u001b[0;34m[\u001b[0m\u001b[0mc\u001b[0m\u001b[0;34m]\u001b[0m \u001b[0;32mif\u001b[0m \u001b[0mc\u001b[0m \u001b[0;34m==\u001b[0m \u001b[0;34m'longitude'\u001b[0m \u001b[0;34m|\u001b[0m \u001b[0mc\u001b[0m\u001b[0;34m==\u001b[0m \u001b[0;34m'latitude'\u001b[0m \u001b[0;32melse\u001b[0m \u001b[0mavg\u001b[0m\u001b[0;34m(\u001b[0m\u001b[0mdf\u001b[0m\u001b[0;34m[\u001b[0m\u001b[0mc\u001b[0m\u001b[0;34m]\u001b[0m\u001b[0;34m)\u001b[0m \u001b[0;32mfor\u001b[0m \u001b[0mc\u001b[0m \u001b[0;32min\u001b[0m \u001b[0mdf\u001b[0m\u001b[0;34m.\u001b[0m\u001b[0mcolumns\u001b[0m\u001b[0;34m\u001b[0m\u001b[0;34m\u001b[0m\u001b[0m\n\u001b[1;32m      3\u001b[0m ])\n",
            "\u001b[0;32m/tmp/ipython-input-118236686.py\u001b[0m in \u001b[0;36m<listcomp>\u001b[0;34m(.0)\u001b[0m\n\u001b[1;32m      1\u001b[0m df.select([\n\u001b[0;32m----> 2\u001b[0;31m     \u001b[0mdf\u001b[0m\u001b[0;34m[\u001b[0m\u001b[0mc\u001b[0m\u001b[0;34m]\u001b[0m \u001b[0;32mif\u001b[0m \u001b[0mc\u001b[0m \u001b[0;34m==\u001b[0m \u001b[0;34m'longitude'\u001b[0m \u001b[0;34m|\u001b[0m \u001b[0mc\u001b[0m\u001b[0;34m==\u001b[0m \u001b[0;34m'latitude'\u001b[0m \u001b[0;32melse\u001b[0m \u001b[0mavg\u001b[0m\u001b[0;34m(\u001b[0m\u001b[0mdf\u001b[0m\u001b[0;34m[\u001b[0m\u001b[0mc\u001b[0m\u001b[0;34m]\u001b[0m\u001b[0;34m)\u001b[0m \u001b[0;32mfor\u001b[0m \u001b[0mc\u001b[0m \u001b[0;32min\u001b[0m \u001b[0mdf\u001b[0m\u001b[0;34m.\u001b[0m\u001b[0mcolumns\u001b[0m\u001b[0;34m\u001b[0m\u001b[0;34m\u001b[0m\u001b[0m\n\u001b[0m\u001b[1;32m      3\u001b[0m ])\n",
            "\u001b[0;31mTypeError\u001b[0m: unsupported operand type(s) for |: 'str' and 'str'"
          ]
        }
      ]
    },
    {
      "cell_type": "markdown",
      "source": [
        "## If else"
      ],
      "metadata": {
        "id": "_G2fk46kOzx0"
      }
    },
    {
      "cell_type": "code",
      "source": [
        "# # This is wrong, no need to use select... which creates a new column.\n",
        "\n",
        "# df.select([\n",
        "#     'YES' if c == 'latitude' else 'NO'for c in df.columns\n",
        "# ]).show()"
      ],
      "metadata": {
        "id": "LGAVJHd1PT8H"
      },
      "execution_count": 99,
      "outputs": []
    },
    {
      "cell_type": "code",
      "source": [],
      "metadata": {
        "id": "T7I5zxkGPkX1"
      },
      "execution_count": 99,
      "outputs": []
    },
    {
      "cell_type": "code",
      "source": [
        "df.select([df[c] if c == 'longitude' | c == 'latitude' else 'SKIP' for c in df.columns]).show()"
      ],
      "metadata": {
        "id": "0RvTX36oP5P_"
      },
      "execution_count": null,
      "outputs": []
    },
    {
      "cell_type": "code",
      "source": [
        "[round(df[c], 1) if c == 'median_income' else df[c] for c in df.columns]\n",
        "\n",
        "# I want to show it!\n",
        "df.select([round(df[c], 1) if c == 'median_income' else df[c] for c in df.columns]).show()"
      ],
      "metadata": {
        "id": "pIi_9M8DQJLL"
      },
      "execution_count": null,
      "outputs": []
    },
    {
      "cell_type": "code",
      "source": [
        "['KEEP' if c in ['latitude', 'longitude'] else 'SKIP' for c in df.columns]"
      ],
      "metadata": {
        "colab": {
          "base_uri": "https://localhost:8080/"
        },
        "id": "459LpzEjQqW7",
        "outputId": "2ecdd1fa-dafe-459f-a804-bbde61c7c8ab"
      },
      "execution_count": 108,
      "outputs": [
        {
          "output_type": "execute_result",
          "data": {
            "text/plain": [
              "['KEEP', 'KEEP', 'SKIP', 'SKIP', 'SKIP', 'SKIP', 'SKIP', 'SKIP', 'SKIP']"
            ]
          },
          "metadata": {},
          "execution_count": 108
        }
      ]
    },
    {
      "cell_type": "code",
      "source": [
        "# There are two types of list comprehensions.\n",
        "# 1. Obligatory transformation: if else before for loop to do something which every single value.\n",
        "# 2. Filtering. If afterwards, because you want to decide what to include.\n",
        "\n",
        "# Question: From cols, build a list with the original name if it starts with \"m\" (hint: c.startswith('m')), else the uppercase name.\n",
        "\n",
        "[c for c in df.columns if c.startswith('m')]"
      ],
      "metadata": {
        "colab": {
          "base_uri": "https://localhost:8080/"
        },
        "id": "aLVNoYTbReiZ",
        "outputId": "0a9c60dd-16ea-4786-8919-4e9d8a3920cf"
      },
      "execution_count": 113,
      "outputs": [
        {
          "output_type": "execute_result",
          "data": {
            "text/plain": [
              "['median_income', 'median_house_value']"
            ]
          },
          "metadata": {},
          "execution_count": 113
        }
      ]
    },
    {
      "cell_type": "code",
      "source": [
        "[df[c] for c in df.columns if c.__contains__('house')]\n",
        "\n",
        "## The better way was as such:\n",
        "# [df[c] for c in df.columns if 'house' in c]"
      ],
      "metadata": {
        "colab": {
          "base_uri": "https://localhost:8080/"
        },
        "id": "xcapQ3rCSGaY",
        "outputId": "243efad2-bda9-4614-c2fb-a2265fd057a9"
      },
      "execution_count": 116,
      "outputs": [
        {
          "output_type": "execute_result",
          "data": {
            "text/plain": [
              "[Column<'households'>, Column<'median_house_value'>]"
            ]
          },
          "metadata": {},
          "execution_count": 116
        }
      ]
    },
    {
      "cell_type": "code",
      "source": [
        "df.select([\n",
        "    col(c) for c in df.columns if c != 'total_bedrooms' or c != 'population'\n",
        "]).show()"
      ],
      "metadata": {
        "colab": {
          "base_uri": "https://localhost:8080/"
        },
        "id": "JYCM-f-zUSzj",
        "outputId": "a9bbef94-2876-4e7f-8515-c4cae5c7a9e1"
      },
      "execution_count": 117,
      "outputs": [
        {
          "output_type": "stream",
          "name": "stdout",
          "text": [
            "+---------+--------+------------------+-----------+--------------+----------+----------+-------------+------------------+\n",
            "|longitude|latitude|housing_median_age|total_rooms|total_bedrooms|population|households|median_income|median_house_value|\n",
            "+---------+--------+------------------+-----------+--------------+----------+----------+-------------+------------------+\n",
            "|  -122.05|   37.37|              27.0|     3885.0|         661.0|    1537.0|     606.0|       6.6085|          344700.0|\n",
            "|   -118.3|   34.26|              43.0|     1510.0|         310.0|     809.0|     277.0|        3.599|          176500.0|\n",
            "|  -117.81|   33.78|              27.0|     3589.0|         507.0|    1484.0|     495.0|       5.7934|          270500.0|\n",
            "|  -118.36|   33.82|              28.0|       67.0|          15.0|      49.0|      11.0|       6.1359|          330000.0|\n",
            "|  -119.67|   36.33|              19.0|     1241.0|         244.0|     850.0|     237.0|       2.9375|           81700.0|\n",
            "|  -119.56|   36.51|              37.0|     1018.0|         213.0|     663.0|     204.0|       1.6635|           67000.0|\n",
            "|  -121.43|   38.63|              43.0|     1009.0|         225.0|     604.0|     218.0|       1.6641|           67000.0|\n",
            "|  -120.65|   35.48|              19.0|     2310.0|         471.0|    1341.0|     441.0|        3.225|          166900.0|\n",
            "|  -122.84|    38.4|              15.0|     3080.0|         617.0|    1446.0|     599.0|       3.6696|          194400.0|\n",
            "|  -118.02|   34.08|              31.0|     2402.0|         632.0|    2830.0|     603.0|       2.3333|          164200.0|\n",
            "|  -118.24|   33.98|              45.0|      972.0|         249.0|    1288.0|     261.0|       2.2054|          125000.0|\n",
            "|  -119.12|   35.85|              37.0|      736.0|         166.0|     564.0|     138.0|       2.4167|           58300.0|\n",
            "|  -121.93|   37.25|              36.0|     1089.0|         182.0|     535.0|     170.0|         4.69|          252600.0|\n",
            "|  -117.03|   32.97|              16.0|     3936.0|         694.0|    1935.0|     659.0|       4.5625|          231200.0|\n",
            "|  -117.97|   33.73|              27.0|     2097.0|         325.0|    1217.0|     331.0|       5.7121|          222500.0|\n",
            "|  -117.99|   33.81|              42.0|      161.0|          40.0|     157.0|      50.0|          2.2|          153100.0|\n",
            "|  -120.81|   37.53|              15.0|      570.0|         123.0|     189.0|     107.0|        1.875|          181300.0|\n",
            "|   -121.2|   38.69|              26.0|     3077.0|         607.0|    1603.0|     595.0|       2.7174|          137500.0|\n",
            "|  -118.88|   34.21|              26.0|     1590.0|         196.0|     654.0|     199.0|       6.5851|          300000.0|\n",
            "|  -122.59|   38.01|              35.0|     8814.0|        1307.0|    3450.0|    1258.0|       6.1724|          414300.0|\n",
            "+---------+--------+------------------+-----------+--------------+----------+----------+-------------+------------------+\n",
            "only showing top 20 rows\n",
            "\n"
          ]
        }
      ]
    },
    {
      "cell_type": "markdown",
      "source": [
        "## groupBy"
      ],
      "metadata": {
        "id": "7B5d5JsHVtGl"
      }
    },
    {
      "cell_type": "code",
      "source": [
        "# FYI\n",
        "# aggregations are sum, avg, max, etc.\n",
        "# Why? Because they aggreagate data, the group multiple rows."
      ],
      "metadata": {
        "id": "5k4T_r-BV0GW"
      },
      "execution_count": null,
      "outputs": []
    },
    {
      "cell_type": "code",
      "source": [
        "df.select(avg(df.median_income)).show()\n",
        "df.agg(avg(df.median_income)).show() # same! agg is used right after a groupBy."
      ],
      "metadata": {
        "colab": {
          "base_uri": "https://localhost:8080/"
        },
        "id": "Z8JTu-PeXhKh",
        "outputId": "73e5a400-8f39-4930-acfc-ffe452489c12"
      },
      "execution_count": 120,
      "outputs": [
        {
          "output_type": "stream",
          "name": "stdout",
          "text": [
            "+------------------+\n",
            "|avg(median_income)|\n",
            "+------------------+\n",
            "| 3.807271799999998|\n",
            "+------------------+\n",
            "\n",
            "+------------------+\n",
            "|avg(median_income)|\n",
            "+------------------+\n",
            "| 3.807271799999998|\n",
            "+------------------+\n",
            "\n"
          ]
        }
      ]
    },
    {
      "cell_type": "code",
      "source": [],
      "metadata": {
        "id": "iACyu02oXmZZ"
      },
      "execution_count": null,
      "outputs": []
    }
  ]
}